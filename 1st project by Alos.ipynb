{
 "cells": [
  {
   "cell_type": "markdown",
   "id": "c05e9f41",
   "metadata": {},
   "source": [
    "## Number guessing game"
   ]
  },
  {
   "cell_type": "code",
   "execution_count": null,
   "id": "14285015",
   "metadata": {},
   "outputs": [
    {
     "name": "stdout",
     "output_type": "stream",
     "text": [
      "Enter the your name Abhya\n",
      "---------- Welocome Abhya Ji in Number Guess Game  ----------\n",
      "---------- You Can Chosse Number Between 1 to 10 ----------\n",
      "********** If you want to quit then type '999' at the place of number **********\n",
      "Enter the your number Please :7\n",
      "Your number Chossed Number is Too High \n",
      "2\n"
     ]
    }
   ],
   "source": [
    "import random\n",
    "user_name=input(\"Enter the your name \")\n",
    "print('-'*10,f\"Welocome {user_name} Ji in Number Guess Game \",'-'*10)\n",
    "print('-'*10,\"You Can Chosse Number Between 1 to 10\",'-'*10)\n",
    "print('*'*10,\"If you want to quit then type '999' at the place of number\",'*'*10)\n",
    "while True:\n",
    "    try:\n",
    "   \n",
    "   \n",
    "        number=int(input(\"Enter the your number Please :\"))\n",
    "        A=random.randint(1,10)\n",
    "        if 999==number:\n",
    "            print(f\"your Potential is too Low {user_name} to playing this game \")\n",
    "            break\n",
    "        elif A>number :\n",
    "            print(\"Your number Chossed Number is Too Low \")\n",
    "            print(A)\n",
    "        elif A<number:\n",
    "            print(\"Your number Chossed Number is Too High \")\n",
    "            print(A)\n",
    "        elif A == number :\n",
    "            print(\"Wow! you chosse Right Number\")\n",
    "            print(A)\n",
    "            break\n",
    "        \n",
    "            \n",
    "    except:\n",
    "        print(\"you entered Wrong number or invalid formate\")\n",
    "\n",
    "   \n",
    "        \n",
    "        \n",
    "        \n",
    "print(f\"Thanks For Playing Game {user_name}\")"
   ]
  }
 ],
 "metadata": {
  "kernelspec": {
   "display_name": "Python 3 (ipykernel)",
   "language": "python",
   "name": "python3"
  },
  "language_info": {
   "codemirror_mode": {
    "name": "ipython",
    "version": 3
   },
   "file_extension": ".py",
   "mimetype": "text/x-python",
   "name": "python",
   "nbconvert_exporter": "python",
   "pygments_lexer": "ipython3",
   "version": "3.9.13"
  }
 },
 "nbformat": 4,
 "nbformat_minor": 5
}
